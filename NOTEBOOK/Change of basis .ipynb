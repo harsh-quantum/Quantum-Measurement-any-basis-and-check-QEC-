{
 "cells": [
  {
   "cell_type": "code",
   "execution_count": 1,
   "metadata": {},
   "outputs": [],
   "source": [
    "import numpy as np\n",
    "# Importing standard Qiskit libraries\n",
    "from qiskit import *\n",
    "from qiskit.tools.jupyter import *\n",
    "from qiskit.visualization import *\n",
    "#import cirq\n",
    "from ibm_quantum_widgets import *\n",
    "from qiskit.quantum_info import Statevector\n",
    "from qiskit.quantum_info.operators import Operator, Pauli\n",
    "import warnings\n",
    "warnings.filterwarnings(\"ignore\", category=DeprecationWarning)"
   ]
  },
  {
   "cell_type": "markdown",
   "metadata": {},
   "source": [
    "## You need to give the new basis which you in which you want to measure the qubit and automatically it will give a operator in the form of matrix which  we can append just before measurement."
   ]
  },
  {
   "cell_type": "code",
   "execution_count": 18,
   "metadata": {},
   "outputs": [
    {
     "name": "stdout",
     "output_type": "stream",
     "text": [
      "Enter the value of 1st new basis ( in format a+bj) \n",
      "0.70710678\n",
      "0.70710678\n",
      "---------------------------------------------------\n",
      "First New basis i.e u1  [(0.70710678+0j), (0.70710678+0j)]\n",
      "---------------------------------------------------\n",
      ".\n",
      ".\n",
      ".\n",
      "Enter the value of 2nd new basis (in format a+bj) \n",
      "0.70710678\n",
      "-0.70710678\n",
      "---------------------------------------------------\n",
      "Second New basis i.e v1  [(0.70710678+0j), (-0.70710678+0j)]\n",
      "---------------------------------------------------\n"
     ]
    }
   ],
   "source": [
    "# from the user we want measurement basis\n",
    "#a=[]\n",
    "#print(\"There are two basis vector u1 and u2 \")\n",
    "u1 =[]\n",
    "u2 =[]\n",
    "print(\"Enter the value of 1st new basis ( in format a+bj) \") #0.70710678 --very important value it is 1/sqrt(2)\n",
    "\n",
    "for i in range(2):          # A for loop for row entries\n",
    "    u1.append(complex(input()))\n",
    "print(\"---------------------------------------------------\")    \n",
    "print (\"First New basis i.e u1 \",u1)\n",
    "print(\"---------------------------------------------------\") \n",
    "print(\".\\n.\\n.\")   \n",
    "print(\"Enter the value of 2nd new basis (in format a+bj) \") #0.70710678 --very important value it is 1/sqrt(2)\n",
    "\n",
    "for j in range(2):          # A for loop for row entries\n",
    "    u2.append(complex(input()))\n",
    "print(\"---------------------------------------------------\")      \n",
    "print (\"Second New basis i.e v1 \",u2)\n",
    "print(\"---------------------------------------------------\")\n",
    "\n",
    "# Z basis \n",
    "z1 = [1,0]\n",
    "z2 = [0,1]\n",
    "\n",
    "# Calculating the every element of the overlap matrix\n",
    "x1=[]\n",
    "x1.append(np.vdot(u1, z1))\n",
    "x1.append(np.vdot(u1, z2))\n",
    "x1.append(np.vdot(u2, z1))\n",
    "x1.append(np.vdot(u2, z2))\n",
    "#matrix1 = np.conjugate(np.transpose(np.array(x1).reshape(2, 2)))\n",
    "#matrix1_H1 = np.array(x1).reshape(2, 2)\n",
    "M = Operator(np.array(x1).reshape(2, 2)) # Coverting Matrix into operators \n",
    "#M\n",
    "#0.70.707106780710678 --very important value it is 1/sqrt(2)0.70710678"
   ]
  },
  {
   "cell_type": "code",
   "execution_count": 19,
   "metadata": {},
   "outputs": [
    {
     "data": {
      "image/png": "[encoded data removed]",
      "text/plain": [
       "<Figure size 474.195x144.48 with 1 Axes>"
      ]
     },
     "metadata": {},
     "output_type": "display_data"
    },
    {
     "data": {
      "text/plain": [
       "{'1': 1024}"
      ]
     },
     "execution_count": 19,
     "metadata": {},
     "output_type": "execute_result"
    }
   ],
   "source": [
    "qr1 = QuantumRegister(1)\n",
    "cr1 = ClassicalRegister(1)\n",
    "qc1 = QuantumCircuit(qr1,cr1)\n",
    "qc1.x(qr1)\n",
    "qc1.h(qr1)\n",
    "#qc1.sdg(qr1),\n",
    "qc1.barrier()\n",
    "qc1.append(M,[0])\n",
    "qc1.measure(qr1,cr1)\n",
    "display(qc1.draw('mpl'))\n",
    "backend_qasm = Aer.get_backend('qasm_simulator')\n",
    "result = execute(qc1, backend_qasm).result().get_counts(qc1)\n",
    "result"
   ]
  },
  {
   "cell_type": "markdown",
   "metadata": {},
   "source": [
    "## Measuring in the Y basis  i.e i|+> and i|->"
   ]
  },
  {
   "cell_type": "code",
   "execution_count": 15,
   "metadata": {},
   "outputs": [
    {
     "name": "stdout",
     "output_type": "stream",
     "text": [
      "Enter the value of 1st new basis ( in format a+bj) \n",
      "0.70710678\n",
      "0.70710678j\n",
      "---------------------------------------------------\n",
      "First New basis i.e u1  [(0.70710678+0j), 0.70710678j]\n",
      "---------------------------------------------------\n",
      ".\n",
      ".\n",
      ".\n",
      "Enter the value of 2nd new basis (in format a+bj) \n",
      "0.70710678\n",
      "-0.70710678j\n",
      "---------------------------------------------------\n",
      "Second New basis i.e v1  [(0.70710678+0j), -0.70710678j]\n",
      "---------------------------------------------------\n"
     ]
    }
   ],
   "source": [
    "# from the user we want measurement basis\n",
    "#a=[]\n",
    "#print(\"There are two basis vector u1 and u2 \")\n",
    "u1 =[]\n",
    "u2 =[]\n",
    "print(\"Enter the value of 1st new basis ( in format a+bj) \") #0.70710678 --very important value it is 1/sqrt(2)\n",
    "\n",
    "for i in range(2):          # A for loop for row entries\n",
    "    u1.append(complex(input()))\n",
    "print(\"---------------------------------------------------\")    \n",
    "print (\"First New basis i.e u1 \",u1)\n",
    "print(\"---------------------------------------------------\") \n",
    "print(\".\\n.\\n.\")   \n",
    "print(\"Enter the value of 2nd new basis (in format a+bj) \") #0.70710678 --very important value it is 1/sqrt(2)\n",
    "\n",
    "for j in range(2):          # A for loop for row entries\n",
    "    u2.append(complex(input()))\n",
    "print(\"---------------------------------------------------\")      \n",
    "print (\"Second New basis i.e v1 \",u2)\n",
    "print(\"---------------------------------------------------\")\n",
    "\n",
    "# Z basis \n",
    "z1 = [1,0]\n",
    "z2 = [0,1]\n",
    "\n",
    "# Calculating the every element of the overlap matrix\n",
    "x1=[]\n",
    "x1.append(np.vdot(u1, z1))\n",
    "x1.append(np.vdot(u1, z2))\n",
    "x1.append(np.vdot(u2, z1))\n",
    "x1.append(np.vdot(u2, z2))\n",
    "#matrix1 = np.conjugate(np.transpose(np.array(x1).reshape(2, 2)))\n",
    "#matrix1_H1 = np.array(x1).reshape(2, 2)\n",
    "M1 = Operator(np.array(x1).reshape(2, 2)) # Coverting Matrix into operators \n",
    "#M\n",
    "#0.70710678 --very important value it is 1/sqrt(2)"
   ]
  },
  {
   "cell_type": "code",
   "execution_count": 17,
   "metadata": {},
   "outputs": [
    {
     "data": {
      "image/png": "[encoded data removed]",
      "text/plain": [
       "<Figure size 473.904x144.48 with 1 Axes>"
      ]
     },
     "metadata": {},
     "output_type": "display_data"
    },
    {
     "data": {
      "text/plain": [
       "{'0': 1024}"
      ]
     },
     "execution_count": 17,
     "metadata": {},
     "output_type": "execute_result"
    }
   ],
   "source": [
    "qr1 = QuantumRegister(1)\n",
    "cr1 = ClassicalRegister(1)\n",
    "qc1 = QuantumCircuit(qr1,cr1)\n",
    "#qc1.x(qr1)\n",
    "# First prepring the Y state 0.70710678\n",
    "qc1.h(qr1)\n",
    "qc1.s(qr1),\n",
    "qc1.barrier()\n",
    "qc1.append(M1,[0])\n",
    "qc1.measure(qr1,cr1)\n",
    "display(qc1.draw('mpl'))\n",
    "backend_qasm = Aer.get_backend('qasm_simulator')\n",
    "result = execute(qc1, backend_qasm).result().get_counts(qc1)\n",
    "result"
   ]
  },
  {
   "cell_type": "code",
   "execution_count": null,
   "metadata": {},
   "outputs": [],
   "source": []
  }
 ],
 "metadata": {
  "kernelspec": {
   "display_name": "Python 3",
   "language": "python",
   "name": "python3"
  },
  "language_info": {
   "codemirror_mode": {
    "name": "ipython",
    "version": 3
   },
   "file_extension": ".py",
   "mimetype": "text/x-python",
   "name": "python",
   "nbconvert_exporter": "python",
   "pygments_lexer": "ipython3",
   "version": "3.8.5"
  }
 },
 "nbformat": 4,
 "nbformat_minor": 4
}
